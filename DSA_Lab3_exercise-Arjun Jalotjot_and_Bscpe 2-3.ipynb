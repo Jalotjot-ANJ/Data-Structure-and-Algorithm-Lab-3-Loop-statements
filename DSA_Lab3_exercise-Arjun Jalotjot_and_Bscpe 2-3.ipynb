{
 "cells": [
  {
   "cell_type": "markdown",
   "metadata": {},
   "source": [
    "# Data Structure and Algorithm Lab 3 Loop statements\n",
    "## Laboratory Exercise \n",
    "\n",
    "\n",
    "\n",
    "\n"
   ]
  },
  {
   "cell_type": "markdown",
   "metadata": {},
   "source": [
    "\n",
    "\n"
   ]
  },
  {
   "cell_type": "markdown",
   "metadata": {},
   "source": []
  },
  {
   "cell_type": "code",
   "execution_count": null,
   "metadata": {},
   "outputs": [],
   "source": []
  },
  {
   "cell_type": "markdown",
   "metadata": {},
   "source": [
    "## Lab exercise 1\n",
    "\n",
    "from a given list of integers, create a new list using comprehension that will compute the square of odd integer elements.\n",
    "\n",
    "sample calls\n",
    "\n",
    "[2,4,3] == [9]\n",
    "[0,0,1,1] == [1,1]\n"
   ]
  },
  {
   "cell_type": "code",
   "execution_count": 4,
   "metadata": {},
   "outputs": [
    {
     "name": "stdout",
     "output_type": "stream",
     "text": [
      "[9]\n"
     ]
    }
   ],
   "source": [
    "#Arjun N. Jalotjot\n",
    "#BSCPE 2-3\n",
    "#DSA\n",
    "\n",
    "# List comprehension to compute squares of odd integers\n",
    "def square_odd_numbers(lst):\n",
    "    return [x**2 for x in lst if x % 2 != 0]\n",
    "\n",
    "# Taking input from the user\n",
    "input_list = list(map(int, input(\"Enter integers separated by spaces: \").split()))\n",
    "\n",
    "# Output the result\n",
    "print(square_odd_numbers(input_list))\n"
   ]
  },
  {
   "cell_type": "markdown",
   "metadata": {},
   "source": [
    "## Lab exercise 2\n",
    "\n",
    "Using comprehension,create a new list of tuples from two given lists:\n",
    "\n",
    "### sample calls\n",
    "\n",
    "list1[1,2,3]\n",
    "list2[\"mark\",\"alice\",\"john]\n",
    "\n",
    "result: listOfTuple[(1,\"mark\"),(2,\"alice\"),(3,\"john\")] "
   ]
  },
  {
   "cell_type": "code",
   "execution_count": 5,
   "metadata": {},
   "outputs": [
    {
     "name": "stdout",
     "output_type": "stream",
     "text": [
      "[(1, 'mark'), (2, 'alice'), (3, 'john')]\n"
     ]
    }
   ],
   "source": [
    "#Arjun N. Jalotjot\n",
    "#BSCPE 2-3\n",
    "#DSA\n",
    "\n",
    "# Create a list of tuples using comprehension\n",
    "def create_list_of_tuples(list1, list2):\n",
    "    return [(list1[i], list2[i]) for i in range(min(len(list1), len(list2)))]\n",
    "\n",
    "# Taking input from the user\n",
    "list1 = list(map(int, input(\"Enter integers for list1 separated by spaces: \").split()))\n",
    "list2 = input(\"Enter names for list2 separated by spaces: \").split()\n",
    "\n",
    "# Output the result\n",
    "print(create_list_of_tuples(list1, list2))\n"
   ]
  },
  {
   "cell_type": "markdown",
   "metadata": {},
   "source": [
    "\n"
   ]
  },
  {
   "cell_type": "markdown",
   "metadata": {},
   "source": [
    "## Lab exercise 3\n",
    "### Provide a list comprehension that implementation for a function called vowelsToUpper with the following signature:\n",
    "\n",
    "method name : vowelsToUpper\n",
    "\n",
    "input argument : String \n",
    "\n",
    "return argument : String\n",
    "\n",
    "vowelsToUpper must return a version of its String argument with all its vowels changed to their uppercase forms. Nonvowel characters stay as is.\n",
    "\n",
    "### Sample Calls\n",
    "\n",
    "vowelsToUpper \"\" == \"\"\n",
    "\n",
    "vowelsToUpper \"Hello, world!\" == \"HEllO, wOrld!\"\n",
    "\n",
    "vowelsToUpper \"hello hi bye\" == \"hEllO hI byE\""
   ]
  },
  {
   "cell_type": "code",
   "execution_count": 8,
   "metadata": {},
   "outputs": [
    {
     "name": "stdout",
     "output_type": "stream",
     "text": [
      "vowelsToUpperesult: HEllO, wOrld!\n"
     ]
    }
   ],
   "source": [
    "#Arjun N. Jalotjot\n",
    "#BSCPE 2-3\n",
    "#DSA\n",
    "\n",
    "# Function to convert vowels to uppercase\n",
    "def vowelsToUpper(s):\n",
    "    vowels = 'aeiouAEIOU'\n",
    "    return ''.join([char.upper() if char in vowels else char for char in s])\n",
    "\n",
    "# Taking input from the user\n",
    "input_string = input(\"Enter a string: \")\n",
    "\n",
    "# Output the result\n",
    "print(\"vowelsToUpperesult:\", vowelsToUpper(input_string))\n"
   ]
  }
 ],
 "metadata": {
  "kernelspec": {
   "display_name": "Python 3",
   "language": "python",
   "name": "python3"
  },
  "language_info": {
   "codemirror_mode": {
    "name": "ipython",
    "version": 3
   },
   "file_extension": ".py",
   "mimetype": "text/x-python",
   "name": "python",
   "nbconvert_exporter": "python",
   "pygments_lexer": "ipython3",
   "version": "3.11.9"
  }
 },
 "nbformat": 4,
 "nbformat_minor": 2
}
